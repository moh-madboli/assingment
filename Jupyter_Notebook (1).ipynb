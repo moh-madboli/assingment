{
 "cells": [
  {
   "cell_type": "markdown",
   "metadata": {},
   "source": [
    "<center>\n",
    "    <img src=\"https://cf-courses-data.s3.us.cloud-object-storage.appdomain.cloud/IBMDeveloperSkillsNetwork-DS0105EN-SkillsNetwork/labs/Module2/images/SN_web_lightmode.png\" width=\"300\" alt=\"cognitiveclass.ai logo\">\n",
    "</center>\n"
   ]
  },
  {
   "cell_type": "markdown",
   "metadata": {},
   "source": [
    "#### Add your code below following the instructions given in the course\n"
   ]
  },
  {
   "cell_type": "markdown",
   "metadata": {},
   "source": [
    "final assignment"
   ]
  },
  {
   "cell_type": "markdown",
   "metadata": {},
   "source": [
    "introduction"
   ]
  },
  {
   "cell_type": "markdown",
   "metadata": {},
   "source": [
    "data science languages\n",
    "\n",
    "1. Python\n",
    "2. R\n",
    "3. SQL\n",
    "4. Java\n",
    "5. Julia\n",
    "6. Scala\n",
    "7. C/C++\n",
    "8. JavaScript\n",
    "9. Swift\n",
    "10. Go\n",
    "11. MATLAB\n"
   ]
  },
  {
   "cell_type": "markdown",
   "metadata": {},
   "source": [
    "data science libraries\n",
    "\n",
    "1. TensorFlow\n",
    "2. NumPy\n",
    "3. SciPy \n",
    "4. Pandas\n",
    "5. Matplotlib \n",
    "6. Keras\n",
    "7. SciKit-Learn\n",
    "8. PyTorch\n",
    "9. Scrapy"
   ]
  },
  {
   "cell_type": "markdown",
   "metadata": {
    "tags": []
   },
   "source": [
    " Data Scince tools\n",
    "\n",
    "| Tools | avaliable tools |\n",
    "| ----------------------| --------------- |\n",
    "| Data Management Tools | MySQL, PostgreSQL, MongoDB, Apache Cassandra |\n",
    "| Data Integration and Transformation Tools | Apache Airflow and Apache Kafka | \n",
    "| Data Visualization Tools | Cognos Analytics, Tableau and PowerBI |\n",
    "| Code Asset Management Tools | Git, GitHub |\n"
   ]
  },
  {
   "cell_type": "markdown",
   "metadata": {},
   "source": [
    "arithmetic expression examples\n",
    "\n",
    "2 + 3\n",
    "\n",
    "10 - 5\n",
    "\n",
    "3 * 4\n"
   ]
  },
  {
   "cell_type": "code",
   "execution_count": 6,
   "metadata": {
    "tags": []
   },
   "outputs": [
    {
     "data": {
      "text/plain": [
       "(15, 17)"
      ]
     },
     "execution_count": 6,
     "metadata": {},
     "output_type": "execute_result"
    }
   ],
   "source": [
    "# Multiplication\n",
    "num1 = 5\n",
    "num2 = 3\n",
    "result_multiply = num1 * num2\n",
    "\n",
    "# Addition\n",
    "num3 = 10\n",
    "num4 = 7\n",
    "result_add = num3 + num4\n",
    "\n",
    "result_multiply, result_add\n"
   ]
  },
  {
   "cell_type": "code",
   "execution_count": 7,
   "metadata": {
    "tags": []
   },
   "outputs": [
    {
     "data": {
      "text/plain": [
       "3.0"
      ]
     },
     "execution_count": 7,
     "metadata": {},
     "output_type": "execute_result"
    }
   ],
   "source": [
    "def minutes_to_hours(minutes):\n",
    "    hours = minutes / 60\n",
    "    return hours\n",
    "\n",
    "# Example usage\n",
    "minutes = 180\n",
    "hours_result = minutes_to_hours(minutes)\n",
    "hours_result\n"
   ]
  },
  {
   "cell_type": "markdown",
   "metadata": {},
   "source": [
    "list objectives\n",
    "1. First objective\n",
    "2. Second objective\n",
    "3. Third objective\n",
    "4. Fourth objective"
   ]
  },
  {
   "cell_type": "markdown",
   "metadata": {},
   "source": [
    "# Author\n",
    "\n",
    "Mohammed Elsayed"
   ]
  },
  {
   "cell_type": "code",
   "execution_count": null,
   "metadata": {},
   "outputs": [],
   "source": []
  }
 ],
 "metadata": {
  "kernelspec": {
   "display_name": "Python",
   "language": "python",
   "name": "conda-env-python-py"
  },
  "language_info": {
   "codemirror_mode": {
    "name": "ipython",
    "version": 3
   },
   "file_extension": ".py",
   "mimetype": "text/x-python",
   "name": "python",
   "nbconvert_exporter": "python",
   "pygments_lexer": "ipython3",
   "version": "3.7.12"
  }
 },
 "nbformat": 4,
 "nbformat_minor": 4
}
